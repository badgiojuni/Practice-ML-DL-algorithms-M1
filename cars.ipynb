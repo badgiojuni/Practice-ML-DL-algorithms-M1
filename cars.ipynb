{
 "cells": [
  {
   "cell_type": "code",
   "execution_count": 12,
   "id": "tight-packing",
   "metadata": {},
   "outputs": [],
   "source": [
    "#tp_cars \n",
    "#Attention, le programme met du temps à tourner\n",
    "\n",
    "import pandas as pd\n",
    "import random as rd\n",
    "from sklearn.preprocessing import StandardScaler\n",
    "from sklearn.model_selection import StratifiedKFold, cross_val_predict, cross_val_score, train_test_split\n",
    "from sklearn.neural_network import MLPRegressor\n",
    "from sklearn.metrics import balanced_accuracy_score, plot_confusion_matrix, accuracy_score, recall_score,precision_score,f1_score,classification_report\n",
    "from sklearn import preprocessing as pp\n",
    "from sklearn.metrics import roc_curve, auc\n",
    "import numpy as np \n",
    "import matplotlib.pyplot as plt\n",
    "import seaborn as sns\n",
    "from sklearn.linear_model import LinearRegression"
   ]
  },
  {
   "cell_type": "code",
   "execution_count": 13,
   "id": "elder-product",
   "metadata": {},
   "outputs": [
    {
     "name": "stdout",
     "output_type": "stream",
     "text": [
      "/home/theophile.baggio/RNN/cars\n"
     ]
    }
   ],
   "source": [
    "Files = ['audi.csv','bmw.csv','cclass.csv','focus.csv','ford.csv','hyundi.csv',\n",
    "         'merc.csv','skoda.csv','toyota.csv','vauxhall.csv','vw.csv']\n",
    "!pwd"
   ]
  },
  {
   "cell_type": "code",
   "execution_count": 14,
   "id": "shared-discipline",
   "metadata": {},
   "outputs": [],
   "source": [
    "cpt = 0\n",
    "for file in Files:\n",
    "    \n",
    "    if cpt == 0:\n",
    "        df = pd.read_csv(file)\n",
    "        df['marque'] = [file[:-4]]*len(df)\n",
    "    else:\n",
    "        table = pd.read_csv(file)\n",
    "        if 'tax(£)' in table.columns:\n",
    "            table.rename(columns={'tax(£)': 'tax'}, inplace=True)\n",
    "        table['marque'] = [file[:-4]]*len(table)\n",
    "        df = pd.concat([df,table])\n",
    "    cpt = cpt + 1\n",
    "    "
   ]
  },
  {
   "cell_type": "code",
   "execution_count": 15,
   "id": "reasonable-sword",
   "metadata": {},
   "outputs": [],
   "source": [
    "for i in ['model', 'transmission', 'fuelType', 'marque']:\n",
    "    df[i] = pp.LabelEncoder().fit_transform(df[i])\n",
    "#normalize our traindata\n",
    "traindata = df.drop('price',axis=1)\n",
    "scaler = StandardScaler()\n",
    "scaler.fit(traindata)\n",
    "traindata = scaler.transform(traindata)\n",
    "df.loc[:, df.columns != 'price'] = traindata\n"
   ]
  },
  {
   "cell_type": "code",
   "execution_count": null,
   "id": "sharp-potter",
   "metadata": {},
   "outputs": [],
   "source": []
  },
  {
   "cell_type": "code",
   "execution_count": 16,
   "id": "social-louis",
   "metadata": {},
   "outputs": [],
   "source": [
    "xtax = np.array(df[~df.tax.isnull()].drop(['tax','mpg'], axis = 1))\n",
    "xmpg = np.array(df[~df.mpg.isnull()].drop(['tax','mpg'], axis = 1))\n",
    "ytax = np.array(df[~df.tax.isnull()].tax)\n",
    "ympg = np.array(df[~df.mpg.isnull()].mpg)"
   ]
  },
  {
   "cell_type": "code",
   "execution_count": 17,
   "id": "accomplished-import",
   "metadata": {},
   "outputs": [],
   "source": [
    "modeltax = LinearRegression().fit(xtax, ytax)\n",
    "modelmpg = LinearRegression().fit(xmpg,ympg)\n",
    "#print(modeltax.score(xtax,ytax), modelmpg.score(xmpg,ympg)) \n",
    "#que represente le score coefficeint de determination?"
   ]
  },
  {
   "cell_type": "markdown",
   "id": "banner-offense",
   "metadata": {},
   "source": [
    "Si le R² vaut 1, cela signifie que l’équation de la droite de régression est capable de déterminer 100 % de la distribution des points. Cela signifie alors que le modèle mathématique utilisé, ainsi que les paramètres a et b calculés sont ceux qui déterminent la distribution des points. En bref, plus le coefficient de détermination se rapproche de 0, plus le nuage de points se disperse autour de la droite de régression. Au contraire, plus le R² tend vers 1, plus le nuage de points se resserre autour de la droite de régression. Quand les points sont exactement alignés sur la droite de régression, alors R² = 1."
   ]
  },
  {
   "cell_type": "code",
   "execution_count": 18,
   "id": "organizational-istanbul",
   "metadata": {},
   "outputs": [
    {
     "name": "stderr",
     "output_type": "stream",
     "text": [
      "/usr/local/lib64/python3.8/site-packages/pandas/core/indexing.py:1637: SettingWithCopyWarning: \n",
      "A value is trying to be set on a copy of a slice from a DataFrame\n",
      "\n",
      "See the caveats in the documentation: https://pandas.pydata.org/pandas-docs/stable/user_guide/indexing.html#returning-a-view-versus-a-copy\n",
      "  self._setitem_single_block(indexer, value, name)\n",
      "/usr/local/lib64/python3.8/site-packages/pandas/core/indexing.py:1637: SettingWithCopyWarning: \n",
      "A value is trying to be set on a copy of a slice from a DataFrame\n",
      "\n",
      "See the caveats in the documentation: https://pandas.pydata.org/pandas-docs/stable/user_guide/indexing.html#returning-a-view-versus-a-copy\n",
      "  self._setitem_single_block(indexer, value, name)\n"
     ]
    }
   ],
   "source": [
    "#on remplace les NA grace à une régression linéaire dans les colonnes tax et mpg\n",
    "taxnul = list(np.where(df['tax'].isnull())[0])\n",
    "mpgnul = list(np.where(df['mpg'].isnull())[0])\n",
    "xtemp = np.array(df[df.tax.isnull()].drop(['tax','mpg'], axis = 1))\n",
    "ytemp = modeltax.predict(xtemp)\n",
    "df['tax'].iloc[taxnul] = ytemp\n",
    "xtemp1 = np.array(df[df.mpg.isnull()].drop(['tax','mpg'], axis = 1))\n",
    "ytemp1 = modelmpg.predict(xtemp1)\n",
    "df['mpg'].iloc[mpgnul] = ytemp1"
   ]
  },
  {
   "cell_type": "code",
   "execution_count": 19,
   "id": "outstanding-creature",
   "metadata": {},
   "outputs": [],
   "source": [
    "#production modèle MLPRegressor\n",
    "# On génère des modèles 1 couche cachée je fais des tests pour choisir le modèle plus efficace en utilisant\n",
    "#la cross validation:\n",
    "#nbmodel = 35;\n",
    "#Model = [];\n",
    "#Name=[];\n",
    "#for i in range(30,nbmodel):\n",
    "#    Model.append(MLPRegressor(solver='lbfgs', alpha=1e-8, max_iter = 1e7, hidden_layer_sizes=(i+1)))\n",
    "#    Name.append(\"Model\"+str(i+1))\n",
    "\n",
    "#cross-validation\n",
    "#nsplits=5\n",
    "#results = []\n",
    "#for i in range(30,nbmodel):\n",
    "#    kfold = StratifiedKFold(n_splits=nsplits, random_state=1, shuffle=True)\n",
    "#    cv_results = cross_val_score(Model[i-30], df.drop('price',axis=1), df['price'], cv=kfold, scoring='r2')\n",
    "#    results.append(cv_results)\n",
    "#    print('%s: %f (%f)' % (Name[i-30], cv_results.mean(), cv_results.std()))\n",
    "\n",
    "#le programme met du temps à tourner, j'ai choisi nombre neurones = 35 pour mon model"
   ]
  },
  {
   "cell_type": "code",
   "execution_count": 20,
   "id": "understanding-australian",
   "metadata": {},
   "outputs": [
    {
     "name": "stderr",
     "output_type": "stream",
     "text": [
      "/usr/local/lib64/python3.8/site-packages/sklearn/model_selection/_split.py:666: UserWarning: The least populated class in y has only 1 members, which is less than n_splits=5.\n",
      "  warnings.warn((\"The least populated class in y has only %d\"\n"
     ]
    },
    {
     "name": "stdout",
     "output_type": "stream",
     "text": [
      "Score R2 de mon modele: [0.88051639 0.90377682 0.89882741 0.88249048 0.88686953]\n"
     ]
    }
   ],
   "source": [
    "nbneurons = 35\n",
    "model = MLPRegressor(solver='lbfgs', alpha=1e-8, max_iter = 1e7, hidden_layer_sizes=(nbneurons))\n",
    "model.fit(df.drop('price',axis=1), df['price'])\n",
    "kfold = StratifiedKFold(n_splits=5, random_state=1, shuffle=True)\n",
    "cv_results = cross_val_score(model, df.drop('price',axis=1), df['price'], cv=kfold, scoring='r2')\n",
    "print('Score R2 de mon modele: {}'.format(np.mean(cv_results)))"
   ]
  },
  {
   "cell_type": "code",
   "execution_count": 21,
   "id": "joined-moral",
   "metadata": {},
   "outputs": [
    {
     "name": "stdout",
     "output_type": "stream",
     "text": [
      "Le score sous forme (yest-yexact)^2 est: 9.725e+11.Pas très indicatif ^^ \n",
      "\n",
      "Je n'ai pas bien vu l'intérêt du leave one out avec autant d'échantillons,\n",
      "c'est d'ailleurs écrit dans la documentation: 'Due to the high number of test sets (which is the same as the number of samples)this cross-validation method can be very costly.For large datasets one should favor \n",
      "KFold, ShuffleSplit or StratifiedKFold.'\n",
      " J'ai donc pris le parti d'utiliser seulement le stratifiedKfold sachant que le résultat obtenu n'était pas vrt amélioré avec le Leave one out\n"
     ]
    }
   ],
   "source": [
    "yest = np.array(model.predict(df.drop('price',axis=1)))\n",
    "yexact = np.array(df['price'])\n",
    "score = (np.linalg.norm(yest-yexact,2))**2\n",
    "print(\"Le score sous forme (yest-yexact)^2 est: {:.3e}.\\\n",
    "Pas très indicatif ^^ \\n\\nJe n'ai pas bien vu l'intérêt du leave one out avec autant d'échantillons,\\\n",
    "\\nc'est d'ailleurs écrit dans la documentation: \\\n",
    "'Due to the high number of test sets (which is the same as the number of samples)\\\n",
    "this cross-validation method can be very costly.\\\n",
    "For large datasets one should favor \\nKFold, ShuffleSplit or StratifiedKFold.'\\n J'ai donc pris le\\\n",
    " parti d'utiliser seulement le stratifiedKfold sachant que le résultat obtenu n'était pas vrt amélioré\\\n",
    " avec le Leave one out\".format(score))"
   ]
  },
  {
   "cell_type": "code",
   "execution_count": 22,
   "id": "falling-island",
   "metadata": {},
   "outputs": [
    {
     "data": {
      "text/plain": [
       "<function matplotlib.pyplot.show(close=None, block=None)>"
      ]
     },
     "execution_count": 22,
     "metadata": {},
     "output_type": "execute_result"
    },
    {
     "data": {
      "image/png": "[encoded data removed]",
      "text/plain": [
       "<Figure size 432x288 with 1 Axes>"
      ]
     },
     "metadata": {
      "needs_background": "light"
     },
     "output_type": "display_data"
    }
   ],
   "source": [
    "x = np.linspace(0, 160000, 2)\n",
    "plt.scatter(yexact, yest)\n",
    "plt.plot(x,x,'r',label=\"y = x\")\n",
    "plt.xlabel(\"valeurs exactes\")\n",
    "plt.ylabel(\"valeurs estimées\")\n",
    "plt.title(\"Visualisation de l'estimation \")\n",
    "plt.legend()\n",
    "plt.show"
   ]
  },
  {
   "cell_type": "code",
   "execution_count": 25,
   "id": "bound-chapter",
   "metadata": {},
   "outputs": [
    {
     "data": {
      "text/plain": [
       "0.8904961251168837"
      ]
     },
     "execution_count": 25,
     "metadata": {},
     "output_type": "execute_result"
    }
   ],
   "source": []
  },
  {
   "cell_type": "code",
   "execution_count": null,
   "id": "developed-mountain",
   "metadata": {},
   "outputs": [],
   "source": []
  }
 ],
 "metadata": {
  "kernelspec": {
   "display_name": "Python 3",
   "language": "python",
   "name": "python3"
  },
  "language_info": {
   "codemirror_mode": {
    "name": "ipython",
    "version": 3
   },
   "file_extension": ".py",
   "mimetype": "text/x-python",
   "name": "python",
   "nbconvert_exporter": "python",
   "pygments_lexer": "ipython3",
   "version": "3.8.7"
  }
 },
 "nbformat": 4,
 "nbformat_minor": 5
}
